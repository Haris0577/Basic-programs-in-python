{
  "nbformat": 4,
  "nbformat_minor": 0,
  "metadata": {
    "colab": {
      "name": "Basics of python.ipynb",
      "provenance": [],
      "toc_visible": true
    },
    "kernelspec": {
      "name": "python3",
      "display_name": "Python 3"
    },
    "language_info": {
      "name": "python"
    }
  },
  "cells": [
    {
      "cell_type": "markdown",
      "source": [
        "**BASICS OF PYTHON**\n",
        "\n",
        "---\n",
        "\n",
        "\n",
        "\n"
      ],
      "metadata": {
        "id": "A2WgEcEXlyCi"
      }
    },
    {
      "cell_type": "markdown",
      "source": [
        "1- My first program"
      ],
      "metadata": {
        "id": "UelSf6mIl_hT"
      }
    },
    {
      "cell_type": "code",
      "source": [
        "print(\"hello world\") \n",
        "print(\"hi i am haris\") \n",
        "print(2+3)"
      ],
      "metadata": {
        "colab": {
          "base_uri": "https://localhost:8080/"
        },
        "id": "KDa0be_kmGMS",
        "outputId": "8f6c2efb-ca8e-43c8-8f86-9c3c74ca1426"
      },
      "execution_count": 1,
      "outputs": [
        {
          "output_type": "stream",
          "name": "stdout",
          "text": [
            "hello world\n",
            "hi i am haris\n",
            "5\n"
          ]
        }
      ]
    },
    {
      "cell_type": "markdown",
      "source": [
        "2- Operators"
      ],
      "metadata": {
        "id": "YlqNIzBDmVsh"
      }
    },
    {
      "cell_type": "code",
      "source": [
        "print(2+1)\n",
        "print(3-1)\n",
        "print(23) \n",
        "print(2*3)\n",
        "print(6/2)\n",
        "print(6//2)\n",
        "print(13%2)\n",
        "print(3+2/23/3+6-4)\n",
        "# *PEMDAS Parenthesis Exponents Multiply Divide \n",
        "# Addition Subtraction in left to right sequence"
      ],
      "metadata": {
        "colab": {
          "base_uri": "https://localhost:8080/"
        },
        "id": "y_NYyIPVmV40",
        "outputId": "ea776bbb-f4b1-4cec-8aa8-e0bb455fe66e"
      },
      "execution_count": 2,
      "outputs": [
        {
          "output_type": "stream",
          "name": "stdout",
          "text": [
            "3\n",
            "2\n",
            "23\n",
            "6\n",
            "3.0\n",
            "3\n",
            "1\n",
            "5.028985507246377\n"
          ]
        }
      ]
    },
    {
      "cell_type": "markdown",
      "source": [
        "3-Strings"
      ],
      "metadata": {
        "id": "V7tZ4KudmWCw"
      }
    },
    {
      "cell_type": "code",
      "source": [
        "print(\"hey i am haris\") \n",
        "print(\"we are learning with aamar\") \n",
        "print('test for single quote') \n",
        "print(\"test for double quote\") \n",
        "print('''test for triple quote''')"
      ],
      "metadata": {
        "colab": {
          "base_uri": "https://localhost:8080/"
        },
        "id": "VG-SzGGYmWLR",
        "outputId": "4e4c72b5-1cdd-4845-9900-13de68b5fb32"
      },
      "execution_count": 3,
      "outputs": [
        {
          "output_type": "stream",
          "name": "stdout",
          "text": [
            "hey i am haris\n",
            "we are learning with aamar\n",
            "test for single quote\n",
            "test for double quote\n",
            "test for triple quote\n"
          ]
        }
      ]
    },
    {
      "cell_type": "markdown",
      "source": [
        "4- Comments"
      ],
      "metadata": {
        "id": "3rWQkbFlmWbh"
      }
    },
    {
      "cell_type": "code",
      "source": [
        "# The shortcut key for comment is cntrl+/\n",
        "print(\"hello world\") # print the string"
      ],
      "metadata": {
        "colab": {
          "base_uri": "https://localhost:8080/"
        },
        "id": "lL8Okyh-mWl_",
        "outputId": "d0e36c6d-9f96-4a7a-a9b6-258780a01468"
      },
      "execution_count": 4,
      "outputs": [
        {
          "output_type": "stream",
          "name": "stdout",
          "text": [
            "hello world\n"
          ]
        }
      ]
    },
    {
      "cell_type": "markdown",
      "source": [
        "5-Variables"
      ],
      "metadata": {
        "id": "IdL5nvFrmyCC"
      }
    },
    {
      "cell_type": "code",
      "source": [
        "x=\"haris khan\"\n",
        "x"
      ],
      "metadata": {
        "colab": {
          "base_uri": "https://localhost:8080/",
          "height": 35
        },
        "id": "1kkJqILwm1Q-",
        "outputId": "e63fcc4d-4767-4c16-90e3-0859d6b6df74"
      },
      "execution_count": 5,
      "outputs": [
        {
          "output_type": "execute_result",
          "data": {
            "application/vnd.google.colaboratory.intrinsic+json": {
              "type": "string"
            },
            "text/plain": [
              "'haris khan'"
            ]
          },
          "metadata": {},
          "execution_count": 5
        }
      ]
    },
    {
      "cell_type": "markdown",
      "source": [
        "6-Input program"
      ],
      "metadata": {
        "id": "Yh81gsy5nLrF"
      }
    },
    {
      "cell_type": "code",
      "source": [
        "name= input(\"what is your name -\") \n",
        "age=input(\"what is your age \") \n",
        "greeting= print(\"hi\") \n",
        "print( age) \n",
        "print(name,greeting, age)"
      ],
      "metadata": {
        "colab": {
          "base_uri": "https://localhost:8080/"
        },
        "id": "agCDXt7EnN0a",
        "outputId": "be045ac3-43a8-4e94-878e-25e904e71181"
      },
      "execution_count": 7,
      "outputs": [
        {
          "output_type": "stream",
          "name": "stdout",
          "text": [
            "what is your name -haris\n",
            "what is your age 21\n",
            "hi\n",
            "21\n",
            "haris None 21\n"
          ]
        }
      ]
    },
    {
      "cell_type": "markdown",
      "source": [
        "07-Functions"
      ],
      "metadata": {
        "id": "goy3tKDLnolO"
      }
    },
    {
      "cell_type": "code",
      "source": [
        "def itsafunction(): \n",
        "  text=\"i am cool\" \n",
        "  print(text) \n",
        "  print(text) \n",
        "  print(text)\n",
        "  \n",
        "  itsafunction(3)"
      ],
      "metadata": {
        "id": "PXqhqX_0nrOs"
      },
      "execution_count": 15,
      "outputs": []
    },
    {
      "cell_type": "markdown",
      "source": [
        "08- if, else and elif in python"
      ],
      "metadata": {
        "id": "yP9MBaTRpGpx"
      }
    },
    {
      "cell_type": "code",
      "source": [
        "x=1 \n",
        "y=3.3 \n",
        "if x==y:print(\"greay\") \n",
        "elif x<y:print(\"not very great\") \n",
        "else:print(\"not great\")"
      ],
      "metadata": {
        "colab": {
          "base_uri": "https://localhost:8080/"
        },
        "id": "ySxTx4VCpGx8",
        "outputId": "f2023130-0aea-4428-b847-dce348039615"
      },
      "execution_count": 16,
      "outputs": [
        {
          "output_type": "stream",
          "name": "stdout",
          "text": [
            "not very great\n"
          ]
        }
      ]
    },
    {
      "cell_type": "markdown",
      "source": [
        "09- Important libraries in python"
      ],
      "metadata": {
        "id": "Ba8GwB-tpUXy"
      }
    },
    {
      "cell_type": "code",
      "source": [
        "import math \n",
        "print(math.pi)\n",
        "import statistics \n",
        "x=[1,2,3] \n",
        "print(statistics.median(x))\n",
        "# important libraries numpy, pandas"
      ],
      "metadata": {
        "colab": {
          "base_uri": "https://localhost:8080/"
        },
        "id": "2jPJUwxepXvc",
        "outputId": "b918caaa-6506-4e8a-bcbf-15ec5fd8554f"
      },
      "execution_count": 17,
      "outputs": [
        {
          "output_type": "stream",
          "name": "stdout",
          "text": [
            "3.141592653589793\n",
            "2\n"
          ]
        }
      ]
    },
    {
      "cell_type": "markdown",
      "source": [
        "10- Loops in python"
      ],
      "metadata": {
        "id": "Yd1gPtJ8pqJO"
      }
    },
    {
      "cell_type": "markdown",
      "source": [
        "- 10.1 - while loop"
      ],
      "metadata": {
        "id": "cz9IQoffp6rD"
      }
    },
    {
      "cell_type": "code",
      "source": [
        "x=input(\"provide the value of x =\") \n",
        "x=int(x) \n",
        "while (x<12): \n",
        " print(x) \n",
        "  x=x+1"
      ],
      "metadata": {
        "colab": {
          "base_uri": "https://localhost:8080/",
          "height": 130
        },
        "id": "LA3b7ijtp0uZ",
        "outputId": "aadfc7e7-86cb-4edc-ed24-40cb29e3f81b"
      },
      "execution_count": 1,
      "outputs": [
        {
          "output_type": "error",
          "ename": "IndentationError",
          "evalue": "ignored",
          "traceback": [
            "\u001b[0;36m  File \u001b[0;32m\"<ipython-input-1-17a2cce4ff32>\"\u001b[0;36m, line \u001b[0;32m5\u001b[0m\n\u001b[0;31m    x=x+1\u001b[0m\n\u001b[0m    ^\u001b[0m\n\u001b[0;31mIndentationError\u001b[0m\u001b[0;31m:\u001b[0m unexpected indent\n"
          ]
        }
      ]
    },
    {
      "cell_type": "markdown",
      "source": [
        "- 10.2 - For loop"
      ],
      "metadata": {
        "id": "f92rAV4fqZjX"
      }
    },
    {
      "cell_type": "code",
      "source": [
        "for x in range(5,10): \n",
        "  print(x)\n",
        "days= (\"mon\", \"tue\", \"wed\", \"thurs\") \n",
        "for d in days: \n",
        "  print(d)"
      ],
      "metadata": {
        "colab": {
          "base_uri": "https://localhost:8080/"
        },
        "id": "aWi-PBh8qdH1",
        "outputId": "279ca385-e395-4fec-ffb5-c0f8565f5cab"
      },
      "execution_count": 2,
      "outputs": [
        {
          "output_type": "stream",
          "name": "stdout",
          "text": [
            "5\n",
            "6\n",
            "7\n",
            "8\n",
            "9\n",
            "mon\n",
            "tue\n",
            "wed\n",
            "thurs\n"
          ]
        }
      ]
    }
  ]
}